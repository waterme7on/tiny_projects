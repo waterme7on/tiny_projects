{
 "cells": [
  {
   "cell_type": "code",
   "execution_count": 25,
   "metadata": {},
   "outputs": [],
   "source": [
    "# 提供的excel所在路径\n",
    "file_name='test.xlsx'"
   ]
  },
  {
   "cell_type": "code",
   "execution_count": 26,
   "metadata": {},
   "outputs": [],
   "source": [
    "# 代理的名字和用户密码\n",
    "dial_name = \"VPN\"\n",
    "dial_username = \"051916936930\"\n",
    "dial_passwd = \"102030\"\n"
   ]
  },
  {
   "cell_type": "markdown",
   "metadata": {},
   "source": [
    "## 设置代理"
   ]
  },
  {
   "cell_type": "code",
   "execution_count": 27,
   "metadata": {},
   "outputs": [],
   "source": [
    "\n",
    "import os\n",
    "import time\n",
    "def connect_vpn():\n",
    "    cmd_str = \"rasdial %s %s %s\" % (dial_name, dial_username, dial_passwd)\n",
    "    os.system(cmd_str)\n",
    "    time.sleep(3)\n",
    "    \n",
    "def disconnect_vpn():\n",
    "    cmd_str = \"rasdial %s /disconnect\" % dial_name\n",
    "    os.system(cmd_str)\n",
    "    time.sleep(1)"
   ]
  },
  {
   "cell_type": "markdown",
   "metadata": {},
   "source": [
    "## 1. 在表中获取各个链接"
   ]
  },
  {
   "cell_type": "code",
   "execution_count": 64,
   "metadata": {},
   "outputs": [],
   "source": [
    "import pandas as pd\n",
    "import numpy as np\n",
    "import json\n",
    "import re\n",
    "from selenium.webdriver.common.proxy import Proxy, ProxyType"
   ]
  },
  {
   "cell_type": "code",
   "execution_count": 65,
   "metadata": {},
   "outputs": [],
   "source": [
    "data = pd.read_excel(open(file_name, 'rb'), sheet_name='产品目录')\n",
    "data = data.fillna('')"
   ]
  },
  {
   "cell_type": "code",
   "execution_count": 66,
   "metadata": {},
   "outputs": [
    {
     "data": {
      "text/plain": [
       "Index(['SKU', '产品名称', '网站标题', '网站链接', 'Unnamed: 4', 'Unnamed: 5', 'Unnamed: 6',\n",
       "       'Unnamed: 7', 'Unnamed: 8', 'Unnamed: 9', 'Unnamed: 10', 'Unnamed: 11',\n",
       "       'Unnamed: 12', 'Unnamed: 13', '网站选项1', '网站选项2', '网站选项3', '网站选项4',\n",
       "       '网站选项5', '网站选项6', '网站选项7', '网站选项8', '网站选项9', '网站选项10', '网站选项11',\n",
       "       '网站选项12', '网站选项13', '网站选项14', '网站选项15', '网站选项16', '备注'],\n",
       "      dtype='object')"
      ]
     },
     "execution_count": 66,
     "metadata": {},
     "output_type": "execute_result"
    }
   ],
   "source": [
    "data.columns"
   ]
  },
  {
   "cell_type": "code",
   "execution_count": 67,
   "metadata": {},
   "outputs": [],
   "source": [
    "sub_data = data[['网站链接', '网站选项1', '网站选项2', '网站选项3','网站选项4','网站选项5','网站选项6','网站选项7','网站选项8','网站选项9','网站选项10','网站选项11','网站选项12','网站选项13','网站选项14','网站选项15','网站选项16','备注']]\n",
    "sub_data = sub_data.drop_duplicates() # 去重"
   ]
  },
  {
   "cell_type": "code",
   "execution_count": 68,
   "metadata": {},
   "outputs": [
    {
     "data": {
      "text/html": [
       "<div>\n",
       "<style scoped>\n",
       "    .dataframe tbody tr th:only-of-type {\n",
       "        vertical-align: middle;\n",
       "    }\n",
       "\n",
       "    .dataframe tbody tr th {\n",
       "        vertical-align: top;\n",
       "    }\n",
       "\n",
       "    .dataframe thead th {\n",
       "        text-align: right;\n",
       "    }\n",
       "</style>\n",
       "<table border=\"1\" class=\"dataframe\">\n",
       "  <thead>\n",
       "    <tr style=\"text-align: right;\">\n",
       "      <th></th>\n",
       "      <th>网站链接</th>\n",
       "      <th>网站选项1</th>\n",
       "      <th>网站选项2</th>\n",
       "      <th>网站选项3</th>\n",
       "      <th>网站选项4</th>\n",
       "      <th>网站选项5</th>\n",
       "      <th>网站选项6</th>\n",
       "      <th>网站选项7</th>\n",
       "      <th>网站选项8</th>\n",
       "      <th>网站选项9</th>\n",
       "      <th>网站选项10</th>\n",
       "      <th>网站选项11</th>\n",
       "      <th>网站选项12</th>\n",
       "      <th>网站选项13</th>\n",
       "      <th>网站选项14</th>\n",
       "      <th>网站选项15</th>\n",
       "      <th>网站选项16</th>\n",
       "      <th>备注</th>\n",
       "    </tr>\n",
       "  </thead>\n",
       "  <tbody>\n",
       "    <tr>\n",
       "      <th>0</th>\n",
       "      <td>https://detail.1688.com/offer/571649717832.htm...</td>\n",
       "      <td>白色阿富汗玉髓</td>\n",
       "      <td>4mm</td>\n",
       "      <td>6mm</td>\n",
       "      <td>8mm</td>\n",
       "      <td>10mm</td>\n",
       "      <td>12mm</td>\n",
       "      <td></td>\n",
       "      <td></td>\n",
       "      <td></td>\n",
       "      <td></td>\n",
       "      <td></td>\n",
       "      <td></td>\n",
       "      <td></td>\n",
       "      <td></td>\n",
       "      <td></td>\n",
       "      <td></td>\n",
       "      <td></td>\n",
       "    </tr>\n",
       "    <tr>\n",
       "      <th>1</th>\n",
       "      <td>https://detail.1688.com/offer/571649717832.htm...</td>\n",
       "      <td>灰色阿富汗玉髓</td>\n",
       "      <td>4mm</td>\n",
       "      <td>6mm</td>\n",
       "      <td>8mm</td>\n",
       "      <td>10mm</td>\n",
       "      <td>12mm</td>\n",
       "      <td></td>\n",
       "      <td></td>\n",
       "      <td></td>\n",
       "      <td></td>\n",
       "      <td></td>\n",
       "      <td></td>\n",
       "      <td></td>\n",
       "      <td></td>\n",
       "      <td></td>\n",
       "      <td></td>\n",
       "      <td></td>\n",
       "    </tr>\n",
       "    <tr>\n",
       "      <th>2</th>\n",
       "      <td>https://detail.1688.com/offer/571649717832.htm...</td>\n",
       "      <td>咖啡色阿富汗玉髓</td>\n",
       "      <td>4mm</td>\n",
       "      <td>6mm</td>\n",
       "      <td>8mm</td>\n",
       "      <td>10mm</td>\n",
       "      <td>12mm</td>\n",
       "      <td></td>\n",
       "      <td></td>\n",
       "      <td></td>\n",
       "      <td></td>\n",
       "      <td></td>\n",
       "      <td></td>\n",
       "      <td></td>\n",
       "      <td></td>\n",
       "      <td></td>\n",
       "      <td></td>\n",
       "      <td></td>\n",
       "    </tr>\n",
       "    <tr>\n",
       "      <th>3</th>\n",
       "      <td>https://detail.1688.com/offer/571649717832.htm...</td>\n",
       "      <td>浅粉色阿富汗玉髓</td>\n",
       "      <td>4mm</td>\n",
       "      <td>6mm</td>\n",
       "      <td>8mm</td>\n",
       "      <td>10mm</td>\n",
       "      <td>12mm</td>\n",
       "      <td></td>\n",
       "      <td></td>\n",
       "      <td></td>\n",
       "      <td></td>\n",
       "      <td></td>\n",
       "      <td></td>\n",
       "      <td></td>\n",
       "      <td></td>\n",
       "      <td></td>\n",
       "      <td></td>\n",
       "      <td></td>\n",
       "    </tr>\n",
       "  </tbody>\n",
       "</table>\n",
       "</div>"
      ],
      "text/plain": [
       "                                                网站链接     网站选项1 网站选项2 网站选项3  \\\n",
       "0  https://detail.1688.com/offer/571649717832.htm...   白色阿富汗玉髓   4mm   6mm   \n",
       "1  https://detail.1688.com/offer/571649717832.htm...   灰色阿富汗玉髓   4mm   6mm   \n",
       "2  https://detail.1688.com/offer/571649717832.htm...  咖啡色阿富汗玉髓   4mm   6mm   \n",
       "3  https://detail.1688.com/offer/571649717832.htm...  浅粉色阿富汗玉髓   4mm   6mm   \n",
       "\n",
       "  网站选项4 网站选项5 网站选项6 网站选项7 网站选项8 网站选项9 网站选项10 网站选项11 网站选项12 网站选项13 网站选项14  \\\n",
       "0   8mm  10mm  12mm                                                        \n",
       "1   8mm  10mm  12mm                                                        \n",
       "2   8mm  10mm  12mm                                                        \n",
       "3   8mm  10mm  12mm                                                        \n",
       "\n",
       "  网站选项15 网站选项16 备注  \n",
       "0                   \n",
       "1                   \n",
       "2                   \n",
       "3                   "
      ]
     },
     "execution_count": 68,
     "metadata": {},
     "output_type": "execute_result"
    }
   ],
   "source": [
    "sub_data.head()"
   ]
  },
  {
   "cell_type": "code",
   "execution_count": 33,
   "metadata": {},
   "outputs": [],
   "source": [
    "# for idx, row in sub_data.iterrows():\n",
    "#     print(idx)\n",
    "#     color = row[1]\n",
    "#     print(color)\n",
    "#     option = [i for i in row[2:].to_list() if i]\n",
    "#     print(option)\n",
    "#     notes = row['备注']\n",
    "#     print(notes)\n",
    "#     break\n",
    "# # 0\n",
    "# # 1 混彩色猫眼\n",
    "# # ['4mm', '6mm', '8mm', '10mm', '12mm', '14mm', '16mm', '无']\n",
    "# # 无"
   ]
  },
  {
   "cell_type": "markdown",
   "metadata": {},
   "source": [
    "   "
   ]
  },
  {
   "cell_type": "markdown",
   "metadata": {},
   "source": [
    "## 2. 获得链接后用爬虫爬取"
   ]
  },
  {
   "cell_type": "code",
   "execution_count": 34,
   "metadata": {},
   "outputs": [],
   "source": [
    "from selenium import webdriver\n",
    "from selenium.webdriver.chrome.options import Options"
   ]
  },
  {
   "cell_type": "code",
   "execution_count": 35,
   "metadata": {},
   "outputs": [],
   "source": [
    "# connect_vpn()"
   ]
  },
  {
   "cell_type": "code",
   "execution_count": 36,
   "metadata": {},
   "outputs": [],
   "source": [
    "# chrome_options = Options()\n",
    "# # chrome_options.add_argument('--headless')\n",
    "# # chrome_options.add_argument('--disable-gpu')\n",
    "# browser = webdriver.Chrome('C:\\Program Files (x86)\\Google\\Chrome\\Application\\chromedriver.exe', options=chrome_options)\n",
    "# browser.delete_all_cookies()\n",
    "# browser.maximize_window()\n",
    "# url='https://detail.1688.com/offer/579617476982.html?spm=a2615.7691456.autotrace-offerGeneral.1.54ca5801IT30Qh'\n",
    "# browser.get(url)\n",
    "# browser.implicitly_wait(2)"
   ]
  },
  {
   "cell_type": "code",
   "execution_count": 37,
   "metadata": {},
   "outputs": [],
   "source": [
    "# browser.close()"
   ]
  },
  {
   "cell_type": "code",
   "execution_count": 38,
   "metadata": {},
   "outputs": [],
   "source": [
    "# while True:\n",
    "#     try:\n",
    "#         bar = browser.find_element_by_css_selector('#err > div.tips > p:nth-child(1)')\n",
    "#         disconnect_vpn()\n",
    "#         connect_vpn()\n",
    "#         browser.refresh()\n",
    "#         browser.implicitly_wait(2)\n",
    "#     except:\n",
    "#         # 未遭到检测则停止\n",
    "#         break"
   ]
  },
  {
   "cell_type": "code",
   "execution_count": 39,
   "metadata": {},
   "outputs": [],
   "source": [
    "# # 展开详情页\n",
    "# try:\n",
    "#     contents_blk = browser.find_element_by_css_selector(\"#mod-detail-bd > div.region-custom.region-detail-property.region-takla.ui-sortable.region-vertical > div.widget-custom.offerdetail_ditto_purchasing > div > div > div > div.obj-sku > div.obj-content\")\n",
    "#     browser.execute_script(\"arguments[0].style = 'height: 1000px;';\", contents_blk)\n",
    "#     time.sleep(1)\n",
    "# except:\n",
    "#     pass\n"
   ]
  },
  {
   "cell_type": "code",
   "execution_count": 40,
   "metadata": {},
   "outputs": [],
   "source": [
    "#mod-detail-bd > div.region-custom.region-detail-property.region-takla.ui-sortable.region-vertical > div.widget-custom.offerdetail_ditto_purchasing > div > div > div > div.obj-sku > div.obj-content > table > tbody > tr:nth-child(1)"
   ]
  },
  {
   "cell_type": "code",
   "execution_count": 41,
   "metadata": {},
   "outputs": [],
   "source": [
    "# _options = browser.find_elements_by_css_selector('#mod-detail-bd > div.region-custom.region-detail-property.region-takla.ui-sortable.region-vertical > div.widget-custom.offerdetail_ditto_purchasing > div > div > div > div.obj-sku > div.obj-content > table > tbody > tr')\n",
    "# for _op in _options:\n",
    "#     if not _op.text:\n",
    "#         continue\n",
    "#     _color = (_op.get_attribute('data-sku-config'))\n",
    "#     _color = json.loads(_color)['skuName']\n",
    "#     _num = (_op.text.strip('\\n-\\n+').split(' '))[1]\n",
    "#     print(_color, _num)"
   ]
  },
  {
   "cell_type": "code",
   "execution_count": null,
   "metadata": {},
   "outputs": [],
   "source": []
  },
  {
   "cell_type": "code",
   "execution_count": null,
   "metadata": {},
   "outputs": [],
   "source": []
  },
  {
   "cell_type": "code",
   "execution_count": null,
   "metadata": {},
   "outputs": [],
   "source": []
  },
  {
   "cell_type": "code",
   "execution_count": null,
   "metadata": {},
   "outputs": [],
   "source": []
  },
  {
   "cell_type": "code",
   "execution_count": 70,
   "metadata": {},
   "outputs": [],
   "source": [
    "\n",
    "# 说明：status_dict记录货品是否有货\n",
    "# status_dict[货品名]为一个字典\n",
    "# status_dict[货品名][颜色名] = 1 if 有货 else 0\n",
    "status_dict = {}\n",
    "\n",
    "proxy_id = 0\n",
    "\n",
    "chrome_options = Options()\n",
    "# chrome_options.add_argument('--headless')\n",
    "# chrome_options.add_argument('--disable-gpu')\n",
    "browser = webdriver.Chrome('C:\\Program Files (x86)\\Google\\Chrome\\Application\\chromedriver.exe', options=chrome_options)\n",
    "browser.delete_all_cookies()\n",
    "browser.maximize_window()"
   ]
  },
  {
   "cell_type": "code",
   "execution_count": 71,
   "metadata": {},
   "outputs": [
    {
     "name": "stdout",
     "output_type": "stream",
     "text": [
      "爬取颜色： 白色阿富汗玉髓\n",
      "白色阿富汗玉髓\n",
      "['4mm', '6mm', '8mm', '10mm', '12mm']\n",
      "白色阿富汗玉髓 ['4mm', '95颗左右', '5.20元', '9988条可售']\n",
      "白色阿富汗玉髓 ['6mm', '62颗左右', '5.20元', '9998条可售']\n",
      "白色阿富汗玉髓 ['8mm', '48颗左右', '6.50元', '9997条可售']\n",
      "白色阿富汗玉髓 ['10mm', '37颗左右', '7.80元', '9971条可售']\n",
      "白色阿富汗玉髓 ['12mm', '32颗左右', '9.10元', '10000条可售']\n",
      "{'4mm': 9988, '6mm': 9998, '8mm': 9997, '10mm': 9971, '12mm': 10000}\n",
      "爬取颜色： 灰色阿富汗玉髓\n",
      "灰色阿富汗玉髓\n",
      "['4mm', '6mm', '8mm', '10mm', '12mm']\n",
      "灰色阿富汗玉髓 ['4mm', '95颗左右', '5.20元', '9987条可售']\n",
      "灰色阿富汗玉髓 ['6mm', '62颗左右', '5.20元', '9999条可售']\n",
      "灰色阿富汗玉髓 ['8mm', '48颗左右', '6.50元', '9977条可售']\n",
      "灰色阿富汗玉髓 ['10mm', '37颗左右', '7.80元', '9999条可售']\n",
      "灰色阿富汗玉髓 ['12mm', '32颗左右', '9.10元', '10000条可售']\n",
      "{'4mm': 9987, '6mm': 9999, '8mm': 9977, '10mm': 9999, '12mm': 10000}\n",
      "爬取颜色： 咖啡色阿富汗玉髓\n",
      "咖啡色阿富汗玉髓\n",
      "['4mm', '6mm', '8mm', '10mm', '12mm']\n",
      "咖啡色阿富汗玉髓 ['4mm', '95颗左右', '5.20元', '9998条可售']\n",
      "咖啡色阿富汗玉髓 ['6mm', '62颗左右', '5.20元', '9997条可售']\n",
      "咖啡色阿富汗玉髓 ['8mm', '48颗左右', '6.50元', '9987条可售']\n",
      "咖啡色阿富汗玉髓 ['10mm', '37颗左右', '7.80元', '9995条可售']\n",
      "咖啡色阿富汗玉髓 ['12mm', '32颗左右', '9.10元', '9999条可售']\n",
      "{'4mm': 9998, '6mm': 9997, '8mm': 9987, '10mm': 9995, '12mm': 9999}\n",
      "爬取颜色： 浅粉色阿富汗玉髓\n",
      "浅粉色阿富汗玉髓\n",
      "['4mm', '6mm', '8mm', '10mm', '12mm']\n",
      "浅粉色阿富汗玉髓 ['4mm', '95颗左右', '5.20元', '9985条可售']\n",
      "浅粉色阿富汗玉髓 ['6mm', '62颗左右', '5.20元', '9998条可售']\n",
      "浅粉色阿富汗玉髓 ['8mm', '48颗左右', '6.50元', '9983条可售']\n",
      "浅粉色阿富汗玉髓 ['10mm', '37颗左右', '7.80元', '9999条可售']\n",
      "浅粉色阿富汗玉髓 ['12mm', '32颗左右', '9.10元', '9998条可售']\n",
      "{'4mm': 9985, '6mm': 9998, '8mm': 9983, '10mm': 9999, '12mm': 9998}\n"
     ]
    }
   ],
   "source": [
    "\n",
    "# connect_vpn()\n",
    "for idx, row in sub_data.iterrows():\n",
    "    # 获取该行对应的颜色\n",
    "    color = row[1]\n",
    "    status_dict[color] = {}\n",
    "    # 获取对应颜色下各个型号\n",
    "    options = [i for i in row[2:].to_list() if i]\n",
    "    notes = row['备注']\n",
    "    \n",
    "    # 浏览器爬取\n",
    "    # 进入网站\n",
    "    url = row['网站链接']\n",
    "    if browser.current_url != url:\n",
    "        browser.get(url)\n",
    "    # 等待加载\n",
    "    browser.implicitly_wait(2)\n",
    "\n",
    "#     while True:\n",
    "#         try:\n",
    "#             # 查看是否遭到检测\n",
    "#             # 遭到的换ip\n",
    "#             bar = browser.find_element_by_css_selector('#err > div.tips > p:nth-child(1)')\n",
    "#             print(\"爬取\",color,\"遭到检测，换ip\")\n",
    "#             disconnect_vpn()\n",
    "#             connect_vpn()\n",
    "#             browser.get(url)\n",
    "#             browser.implicitly_wait(2)\n",
    "#         except:\n",
    "#             # 未遭到检测则停止\n",
    "#             break\n",
    "    \n",
    "    print('爬取颜色：',row[1])\n",
    "\n",
    "    # 只有选项一\n",
    "    if len(options) == 0:\n",
    "        # 展开详情页\n",
    "        try:\n",
    "            contents_blk = browser.find_element_by_css_selector(\"#mod-detail-bd > div.region-custom.region-detail-property.region-takla.ui-sortable.region-vertical > div.widget-custom.offerdetail_ditto_purchasing > div > div > div > div.obj-sku > div.obj-content\")\n",
    "            browser.execute_script(\"arguments[0].style = 'height: 1000px;';\", contents_blk)\n",
    "            time.sleep(1)\n",
    "        except:\n",
    "            pass\n",
    "        \n",
    "        # 获得各个颜色选项\n",
    "        _options = browser.find_elements_by_css_selector('#mod-detail-bd > div.region-custom.region-detail-property.region-takla.ui-sortable.region-vertical > div.widget-custom.offerdetail_ditto_purchasing > div > div > div > div.obj-sku > div.obj-content > table > tbody > tr')\n",
    "        for _op in _options:\n",
    "            if not _op.text:\n",
    "                continue\n",
    "            _color = (_op.get_attribute('data-sku-config'))\n",
    "            _color = json.loads(_color)['skuName']\n",
    "            _num = (_op.text.strip('\\n-\\n+').split(' '))[1]\n",
    "            # 不匹配的可以跳过\n",
    "            if color != _color and color.find(_color) == -1:\n",
    "                continue\n",
    "            print(_color, _num)\n",
    "            \n",
    "            if int(re.findall(r\"\\d+\\.?\\d*\",_num)[0]) <= 0:\n",
    "                # 记录无货信息\n",
    "                status_dict[color][color] = 0\n",
    "            else:\n",
    "                # 记录有货信息\n",
    "                status_dict[color][color] = int(re.findall(r\"\\d+\\.?\\d*\",_num)[0])\n",
    "        print(status_dict[color])\n",
    "        continue\n",
    "        \n",
    "    \n",
    "    # 有选项一和选项二\n",
    "    # 获取页面中各个元素\n",
    "    # 这个获取的部分可能随时会变\n",
    "    alters = browser.find_elements_by_css_selector('#mod-detail-bd > div.detail-v2018-layout-left > div.region-custom.region-detail-property.region-takla.ui-sortable.region-vertical.dsc-version2018-page-fix-content-mid > div.widget-custom.offerdetail_ditto_purchasing > div > div > div > div.obj-leading > div.obj-content > ul > li > div > a')\n",
    "    if not alters:\n",
    "        alters = browser.find_elements_by_css_selector('#mod-detail-bd > div.region-custom.region-detail-property.region-takla.ui-sortable.region-vertical > div.widget-custom.offerdetail_ditto_purchasing > div > div > div > div.obj-leading > div.obj-content > ul > li > div > a')\n",
    "    for alter in alters:\n",
    "        _color = alter.get_attribute('title')\n",
    "        # 如果当前行的颜色匹配，则点击，否则跳过\n",
    "        if color != _color:\n",
    "            continue\n",
    "        print(_color)\n",
    "        print(options)\n",
    "        \n",
    "        \n",
    "        alter.click()\n",
    "        time.sleep(3)\n",
    "\n",
    "        # 展开详情页\n",
    "        try:\n",
    "            contents_blk = browser.find_element_by_css_selector(\"#mod-detail-bd > div.detail-v2018-layout-left > div.region-custom.region-detail-property.region-takla.ui-sortable.region-vertical.dsc-version2018-page-fix-content-mid > div.widget-custom.offerdetail_ditto_purchasing > div > div > div > div.obj-sku > div.obj-content\")\n",
    "            browser.execute_script(\"arguments[0].style = 'height: 800px;';\", contents_blk)\n",
    "            time.sleep(1)\n",
    "        except:\n",
    "            pass\n",
    "        # 展开详情页\n",
    "        try:\n",
    "            contents_blk = browser.find_element_by_css_selector(\"#mod-detail-bd > div.region-custom.region-detail-property.region-takla.ui-sortable.region-vertical > div.widget-custom.offerdetail_ditto_purchasing > div > div > div > div.obj-sku > div.obj-content\")\n",
    "            browser.execute_script(\"arguments[0].style = 'height: 800px;';\", contents_blk)\n",
    "            time.sleep(1)\n",
    "        except:\n",
    "            pass\n",
    "    \n",
    "    \n",
    "        # 得到当前颜色下各个型号\n",
    "        _options = browser.find_elements_by_css_selector('#mod-detail-bd > div.detail-v2018-layout-left > div.region-custom.region-detail-property.region-takla.ui-sortable.region-vertical.dsc-version2018-page-fix-content-mid > div.widget-custom.offerdetail_ditto_purchasing > div > div > div > div.obj-sku > div.obj-content > table > tbody > tr')\n",
    "        if not _options:\n",
    "            _options = browser.find_elements_by_css_selector('#mod-detail-bd > div.region-custom.region-detail-property.region-takla.ui-sortable.region-vertical > div.widget-custom.offerdetail_ditto_purchasing > div > div > div > div.obj-sku > div.obj-content > table > tbody > tr')\n",
    "        # 遍历各个型号\n",
    "        for _option in _options:\n",
    "            # 为空则退出\n",
    "            if not _option.text: \n",
    "                continue\n",
    "            _option = (_option.text.strip('\\n-\\n+').split(' '))\n",
    "            print(color, _option)\n",
    "\n",
    "            # 不在选项中则退出\n",
    "            # 可能为空块\n",
    "            # 对size设置过大\n",
    "            try:\n",
    "                __op = _option[0]\n",
    "                __num = _option[len(_option)-1]\n",
    "            except:\n",
    "                continue\n",
    "#             print(color, __op, __num)\n",
    "            # 如果不在，查看有无间接匹配的\n",
    "            if __op not in options:\n",
    "                __oo = \"\"\n",
    "                for ___op in options:\n",
    "                    if len(__op) >= len(___op) and (__op == ___op or __op[:len(___op)].lower()==___op.lower()\\\n",
    "                        or __op[-len(___op):].lower()==___op.lower()):\n",
    "                        __oo = ___op\n",
    "                if not __oo:\n",
    "                    continue\n",
    "                __op = __oo\n",
    "\n",
    "            if int(re.findall(r\"\\d+\\.?\\d*\",__num)[0]) <= 0:\n",
    "                # 记录无货信息\n",
    "                status_dict[color][__op] = 0\n",
    "            else:\n",
    "                # 记录有货信息\n",
    "                status_dict[color][__op] = int(re.findall(r\"\\d+\\.?\\d*\",__num)[0])\n",
    "\n",
    "        # 新增：根据备注来进行调节\n",
    "        # 如果备注否，则说明全部没有货，显示有误\n",
    "        # 如果备注具体型号，则具体型号没有货\n",
    "        if notes == '否':\n",
    "            for option in options:\n",
    "                status_dict[color][option] = 0\n",
    "            continue\n",
    "        elif notes != '':\n",
    "            empty_options = notes.split(',')\n",
    "            for option in empty_options:\n",
    "                option = option.strip(' ')\n",
    "                status_dict[color][option] = 0\n",
    "        print(status_dict[color])\n",
    "        break\n",
    "# disconnect_vpn()\n"
   ]
  },
  {
   "cell_type": "code",
   "execution_count": 44,
   "metadata": {},
   "outputs": [],
   "source": [
    "browser.close()\n"
   ]
  },
  {
   "cell_type": "code",
   "execution_count": 45,
   "metadata": {},
   "outputs": [
    {
     "name": "stdout",
     "output_type": "stream",
     "text": [
      "{'天珠黑白三眼 8*12MM左右': {'天珠黑白三眼 8*12MM左右': 9570}, '天珠黑白珠 8*12MM左右': {'天珠黑白珠 8*12MM左右': 9680}, '天珠红白三眼 8*12MM左右': {'天珠红白三眼 8*12MM左右': 4300}, '天珠红白珠 8*12MM左右': {'天珠红白珠 8*12MM左右': 9760}, '天珠红白三眼10*14MM左右': {'天珠红白三眼10*14MM左右': 9810}, '天珠黑白三眼 10*14MM左右': {'天珠黑白三眼 10*14MM左右': 9720}}\n"
     ]
    }
   ],
   "source": [
    "print(status_dict)"
   ]
  },
  {
   "cell_type": "code",
   "execution_count": 46,
   "metadata": {},
   "outputs": [],
   "source": [
    "import json\n",
    "with open('data.json', 'w', encoding='utf8') as f:\n",
    "    json.dump(status_dict, f)"
   ]
  },
  {
   "cell_type": "markdown",
   "metadata": {},
   "source": [
    "## 取得货品状态后对原excel表格进行更新"
   ]
  },
  {
   "cell_type": "code",
   "execution_count": 47,
   "metadata": {
    "scrolled": true
   },
   "outputs": [
    {
     "name": "stdout",
     "output_type": "stream",
     "text": [
      "28 31\n"
     ]
    },
    {
     "name": "stderr",
     "output_type": "stream",
     "text": [
      "<ipython-input-47-f3ae4ef7ebbb>:6: DeprecationWarning: Call to deprecated function get_sheet_by_name (Use wb[sheetname]).\n",
      "  work_sheet = work_book.get_sheet_by_name('产品目录')\n"
     ]
    }
   ],
   "source": [
    "# 对表中颜色进行分析\n",
    "import openpyxl\n",
    "from openpyxl.styles import PatternFill, colors\n",
    "\n",
    "work_book = openpyxl.load_workbook(file_name)\n",
    "work_sheet = work_book.get_sheet_by_name('产品目录')\n",
    "print(work_sheet.max_row,work_sheet.max_column)"
   ]
  },
  {
   "cell_type": "code",
   "execution_count": 48,
   "metadata": {},
   "outputs": [
    {
     "ename": "PermissionError",
     "evalue": "[Errno 13] Permission denied: 'test.xlsx'",
     "output_type": "error",
     "traceback": [
      "\u001b[1;31m---------------------------------------------------------------------------\u001b[0m",
      "\u001b[1;31mPermissionError\u001b[0m                           Traceback (most recent call last)",
      "\u001b[1;32m<ipython-input-48-1209c8c46c4a>\u001b[0m in \u001b[0;36m<module>\u001b[1;34m\u001b[0m\n\u001b[0;32m     54\u001b[0m             \u001b[1;32mpass\u001b[0m\u001b[1;33m\u001b[0m\u001b[1;33m\u001b[0m\u001b[0m\n\u001b[0;32m     55\u001b[0m \u001b[1;33m\u001b[0m\u001b[0m\n\u001b[1;32m---> 56\u001b[1;33m \u001b[0mwork_book\u001b[0m\u001b[1;33m.\u001b[0m\u001b[0msave\u001b[0m\u001b[1;33m(\u001b[0m\u001b[0mfile_name\u001b[0m\u001b[1;33m)\u001b[0m\u001b[1;33m\u001b[0m\u001b[1;33m\u001b[0m\u001b[0m\n\u001b[0m",
      "\u001b[1;32m~\\Anaconda3\\lib\\site-packages\\openpyxl\\workbook\\workbook.py\u001b[0m in \u001b[0;36msave\u001b[1;34m(self, filename)\u001b[0m\n\u001b[0;32m    390\u001b[0m         \u001b[1;32mif\u001b[0m \u001b[0mself\u001b[0m\u001b[1;33m.\u001b[0m\u001b[0mwrite_only\u001b[0m \u001b[1;32mand\u001b[0m \u001b[1;32mnot\u001b[0m \u001b[0mself\u001b[0m\u001b[1;33m.\u001b[0m\u001b[0mworksheets\u001b[0m\u001b[1;33m:\u001b[0m\u001b[1;33m\u001b[0m\u001b[1;33m\u001b[0m\u001b[0m\n\u001b[0;32m    391\u001b[0m             \u001b[0mself\u001b[0m\u001b[1;33m.\u001b[0m\u001b[0mcreate_sheet\u001b[0m\u001b[1;33m(\u001b[0m\u001b[1;33m)\u001b[0m\u001b[1;33m\u001b[0m\u001b[1;33m\u001b[0m\u001b[0m\n\u001b[1;32m--> 392\u001b[1;33m         \u001b[0msave_workbook\u001b[0m\u001b[1;33m(\u001b[0m\u001b[0mself\u001b[0m\u001b[1;33m,\u001b[0m \u001b[0mfilename\u001b[0m\u001b[1;33m)\u001b[0m\u001b[1;33m\u001b[0m\u001b[1;33m\u001b[0m\u001b[0m\n\u001b[0m\u001b[0;32m    393\u001b[0m \u001b[1;33m\u001b[0m\u001b[0m\n\u001b[0;32m    394\u001b[0m \u001b[1;33m\u001b[0m\u001b[0m\n",
      "\u001b[1;32m~\\Anaconda3\\lib\\site-packages\\openpyxl\\writer\\excel.py\u001b[0m in \u001b[0;36msave_workbook\u001b[1;34m(workbook, filename)\u001b[0m\n\u001b[0;32m    289\u001b[0m \u001b[1;33m\u001b[0m\u001b[0m\n\u001b[0;32m    290\u001b[0m     \"\"\"\n\u001b[1;32m--> 291\u001b[1;33m     \u001b[0marchive\u001b[0m \u001b[1;33m=\u001b[0m \u001b[0mZipFile\u001b[0m\u001b[1;33m(\u001b[0m\u001b[0mfilename\u001b[0m\u001b[1;33m,\u001b[0m \u001b[1;34m'w'\u001b[0m\u001b[1;33m,\u001b[0m \u001b[0mZIP_DEFLATED\u001b[0m\u001b[1;33m,\u001b[0m \u001b[0mallowZip64\u001b[0m\u001b[1;33m=\u001b[0m\u001b[1;32mTrue\u001b[0m\u001b[1;33m)\u001b[0m\u001b[1;33m\u001b[0m\u001b[1;33m\u001b[0m\u001b[0m\n\u001b[0m\u001b[0;32m    292\u001b[0m     \u001b[0mwriter\u001b[0m \u001b[1;33m=\u001b[0m \u001b[0mExcelWriter\u001b[0m\u001b[1;33m(\u001b[0m\u001b[0mworkbook\u001b[0m\u001b[1;33m,\u001b[0m \u001b[0marchive\u001b[0m\u001b[1;33m)\u001b[0m\u001b[1;33m\u001b[0m\u001b[1;33m\u001b[0m\u001b[0m\n\u001b[0;32m    293\u001b[0m     \u001b[0mwriter\u001b[0m\u001b[1;33m.\u001b[0m\u001b[0msave\u001b[0m\u001b[1;33m(\u001b[0m\u001b[1;33m)\u001b[0m\u001b[1;33m\u001b[0m\u001b[1;33m\u001b[0m\u001b[0m\n",
      "\u001b[1;32m~\\Anaconda3\\lib\\zipfile.py\u001b[0m in \u001b[0;36m__init__\u001b[1;34m(self, file, mode, compression, allowZip64, compresslevel, strict_timestamps)\u001b[0m\n\u001b[0;32m   1248\u001b[0m             \u001b[1;32mwhile\u001b[0m \u001b[1;32mTrue\u001b[0m\u001b[1;33m:\u001b[0m\u001b[1;33m\u001b[0m\u001b[1;33m\u001b[0m\u001b[0m\n\u001b[0;32m   1249\u001b[0m                 \u001b[1;32mtry\u001b[0m\u001b[1;33m:\u001b[0m\u001b[1;33m\u001b[0m\u001b[1;33m\u001b[0m\u001b[0m\n\u001b[1;32m-> 1250\u001b[1;33m                     \u001b[0mself\u001b[0m\u001b[1;33m.\u001b[0m\u001b[0mfp\u001b[0m \u001b[1;33m=\u001b[0m \u001b[0mio\u001b[0m\u001b[1;33m.\u001b[0m\u001b[0mopen\u001b[0m\u001b[1;33m(\u001b[0m\u001b[0mfile\u001b[0m\u001b[1;33m,\u001b[0m \u001b[0mfilemode\u001b[0m\u001b[1;33m)\u001b[0m\u001b[1;33m\u001b[0m\u001b[1;33m\u001b[0m\u001b[0m\n\u001b[0m\u001b[0;32m   1251\u001b[0m                 \u001b[1;32mexcept\u001b[0m \u001b[0mOSError\u001b[0m\u001b[1;33m:\u001b[0m\u001b[1;33m\u001b[0m\u001b[1;33m\u001b[0m\u001b[0m\n\u001b[0;32m   1252\u001b[0m                     \u001b[1;32mif\u001b[0m \u001b[0mfilemode\u001b[0m \u001b[1;32min\u001b[0m \u001b[0mmodeDict\u001b[0m\u001b[1;33m:\u001b[0m\u001b[1;33m\u001b[0m\u001b[1;33m\u001b[0m\u001b[0m\n",
      "\u001b[1;31mPermissionError\u001b[0m: [Errno 13] Permission denied: 'test.xlsx'"
     ]
    }
   ],
   "source": [
    "fill_red = PatternFill('solid', fgColor='ff0000')\n",
    "fill_blue = PatternFill('solid', fgColor='0000ff')\n",
    "fill_yellow = PatternFill('solid', fgColor='ffff00')\n",
    "fill_white = PatternFill('none', fgColor='ffffff')\n",
    "isFirstTime = True\n",
    "\n",
    "pre_color = {}\n",
    "\n",
    "# 遍历提供的表格并进行修改\n",
    "for i in range(1, work_sheet.max_row):\n",
    "    # 当前行对应的颜色\n",
    "    row_color = \"\"\n",
    "    for j in range(1, work_sheet.max_column):\n",
    "        _cell = (work_sheet.cell(i, j))\n",
    "        if not _cell.value:\n",
    "            continue\n",
    "        # 如果当前颜色在我们爬取结果中，则记录当前行的颜色\n",
    "        if _cell.value in status_dict:\n",
    "            row_color = _cell.value\n",
    "        if row_color == \"\":\n",
    "            continue\n",
    "        # 根据检测之前的颜色和已有状态来变色\n",
    "        try:\n",
    "            # 上一次为蓝色的情况\n",
    "            if _cell.fill == fill_blue:\n",
    "                if _cell.value in status_dict[row_color].keys() and status_dict[row_color][_cell.value]:\n",
    "                    _cell.fill = fill_yellow\n",
    "                else:\n",
    "                    _cell.fill = fill_red\n",
    "            # 上一次为黄色的情况\n",
    "            elif _cell.fill == fill_yellow:\n",
    "                if _cell.value in status_dict[row_color].keys() and status_dict[row_color][_cell.value]:\n",
    "                    _cell.fill = fill_white\n",
    "                else:\n",
    "                    _cell.fill = fill_blue\n",
    "            \n",
    "            # 上一次为红色的情况\n",
    "            elif _cell.fill == fill_red:\n",
    "                if _cell.value in status_dict[row_color].keys() and status_dict[row_color][_cell.value]:\n",
    "                    _cell.fill = fill_yellow\n",
    "                else:\n",
    "                    _cell.fill = fill_red\n",
    "            # 上一次为无色的情况\n",
    "            else:\n",
    "                if _cell.value in status_dict[row_color].keys() and status_dict[row_color][_cell.value]:\n",
    "                    pass\n",
    "                else:\n",
    "                    # 如果是第一次，无货则直接置为红色\n",
    "                    if isFirstTime:\n",
    "                        _cell.fill = fill_red\n",
    "                    else:\n",
    "                        _cell.fill = fill_blue\n",
    "        except Exception as e:\n",
    "            pass\n",
    "\n",
    "work_book.save(file_name)"
   ]
  },
  {
   "cell_type": "code",
   "execution_count": null,
   "metadata": {},
   "outputs": [],
   "source": []
  }
 ],
 "metadata": {
  "kernelspec": {
   "display_name": "Python 3",
   "language": "python",
   "name": "python3"
  },
  "language_info": {
   "codemirror_mode": {
    "name": "ipython",
    "version": 3
   },
   "file_extension": ".py",
   "mimetype": "text/x-python",
   "name": "python",
   "nbconvert_exporter": "python",
   "pygments_lexer": "ipython3",
   "version": "3.8.3"
  }
 },
 "nbformat": 4,
 "nbformat_minor": 4
}
