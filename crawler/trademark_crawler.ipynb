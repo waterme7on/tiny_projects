{
 "cells": [
  {
   "cell_type": "code",
   "execution_count": 53,
   "metadata": {},
   "outputs": [],
   "source": [
    "import requests\n",
    "from bs4 import BeautifulSoup\n",
    "import openpyxl\n",
    "from openpyxl.styles import PatternFill, colors\n",
    "fill_red = PatternFill('solid', fgColor='ff0000')\n"
   ]
  },
  {
   "cell_type": "code",
   "execution_count": 48,
   "metadata": {},
   "outputs": [
    {
     "name": "stdout",
     "output_type": "stream",
     "text": [
      "输入文件路径：\n",
      "输入子表名：\n",
      "输入所在列(1,2,...)：\n"
     ]
    }
   ],
   "source": [
    "file_path = input('输入文件路径：')\n",
    "sheet_name = input('输入子表名：')\n",
    "col_name = input('输入所在列(1,2,...)：')\n",
    "\n",
    "# file_path = 'trademarks.xlsx'\n",
    "# sheet_name='test'\n",
    "# col_name=2\n",
    "\n",
    "col_name = col_name-1"
   ]
  },
  {
   "cell_type": "code",
   "execution_count": 61,
   "metadata": {},
   "outputs": [],
   "source": [
    "def isRegistered(trademark_id):\n",
    "    url = 'https://www.trademarkia.com/trademarks-search.aspx?tn='\n",
    "    html = requests.get(url+trademark_id)\n",
    "    html_doc = html.text\n",
    "    soup = BeautifulSoup(html_doc, 'html.parser')\n",
    "    result = (soup.find_all(attrs={'class':'apply-now row'}))\n",
    "    # 说明已经被注册了\n",
    "#     print(trademark_id, result)\n",
    "    return len(result) == 0"
   ]
  },
  {
   "cell_type": "code",
   "execution_count": 62,
   "metadata": {},
   "outputs": [],
   "source": [
    "data = openpyxl.load_workbook(file_path)\n",
    "sheet = data[sheet_name]"
   ]
  },
  {
   "cell_type": "code",
   "execution_count": 64,
   "metadata": {
    "scrolled": true
   },
   "outputs": [
    {
     "name": "stdout",
     "output_type": "stream",
     "text": [
      "adidas 已被注册\n",
      "nike 已被注册\n",
      "puma 已被注册\n",
      "123 已被注册\n",
      "1231 已被注册\n",
      "1242141421 未被注册\n"
     ]
    }
   ],
   "source": [
    "for i, row in enumerate(sheet.iter_rows(min_row=2)):\n",
    "    cell = row[col_name]\n",
    "    isRegi = isRegistered(str(cell.value))\n",
    "    if isRegi:\n",
    "        cell.fill = fill_red\n",
    "        print(cell.value, '已被注册')\n",
    "    else:\n",
    "        print(cell.value, '未被注册')"
   ]
  },
  {
   "cell_type": "code",
   "execution_count": 58,
   "metadata": {},
   "outputs": [],
   "source": [
    "data.save(file_path)"
   ]
  }
 ],
 "metadata": {
  "kernelspec": {
   "display_name": "Python 3",
   "language": "python",
   "name": "python3"
  },
  "language_info": {
   "codemirror_mode": {
    "name": "ipython",
    "version": 3
   },
   "file_extension": ".py",
   "mimetype": "text/x-python",
   "name": "python",
   "nbconvert_exporter": "python",
   "pygments_lexer": "ipython3",
   "version": "3.8.3"
  }
 },
 "nbformat": 4,
 "nbformat_minor": 4
}
