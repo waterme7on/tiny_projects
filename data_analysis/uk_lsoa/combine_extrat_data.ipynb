{
 "cells": [
  {
   "cell_type": "code",
   "execution_count": 1,
   "metadata": {},
   "outputs": [],
   "source": [
    "import os\n",
    "import pandas as pd"
   ]
  },
  {
   "cell_type": "code",
   "execution_count": 2,
   "metadata": {},
   "outputs": [
    {
     "data": {
      "text/plain": [
       "['./UK data by LSOA/Car or van availability by Sex&Age (LSOA).csv',\n",
       " './UK data by LSOA/Distance travelled to work by age (LSOA).csv',\n",
       " './UK data by LSOA/Econmic Activities by Sex&Age (LSOA).csv',\n",
       " './UK data by LSOA/Ethnic group by Sex&Age (LSOA).csv',\n",
       " './UK data by LSOA/Hours Worked by Age (LSOA).csv',\n",
       " './UK data by LSOA/Hours Worked by Sex (LSOA).csv',\n",
       " './UK data by LSOA/Method of travel to work (2001 specification) by age (LSOA).csv',\n",
       " './UK data by LSOA/NS-SeC by Age (LSOA).csv',\n",
       " './UK data by LSOA/Occupation by Age (LSOA).csv',\n",
       " './UK data by LSOA/Religion by Sex&Age (LSOA).csv']"
      ]
     },
     "execution_count": 2,
     "metadata": {},
     "output_type": "execute_result"
    }
   ],
   "source": [
    "lsoa_dir = './UK data by LSOA/'\n",
    "lsoa_files = os.listdir(lsoa_dir)\n",
    "lsoa_files = [lsoa_dir + file for file in lsoa_files if file[-4:]=='.csv']\n",
    "lsoa_files"
   ]
  },
  {
   "cell_type": "code",
   "execution_count": 9,
   "metadata": {},
   "outputs": [],
   "source": [
    "lsoa_files = [ './UK data by LSOA/Method of travel to work (2001 specification) by age (LSOA).csv',\n",
    " './UK data by LSOA/NS-SeC by Age (LSOA).csv',\n",
    " './UK data by LSOA/Occupation by Age (LSOA).csv',\n",
    " './UK data by LSOA/Religion by Sex&Age (LSOA).csv']"
   ]
  },
  {
   "cell_type": "code",
   "execution_count": 10,
   "metadata": {},
   "outputs": [],
   "source": [
    "\n",
    "for lsoa_file in lsoa_files:\n",
    "    df = pd.read_csv(lsoa_file)\n",
    "    saved_columns = ['date', 'geography', 'geography code'] + [column for column in df.columns if (column.find('0 to 15') != -1 or column.find('16 to 24') != -1)]\n",
    "    # 筛选出0-24岁的数据\n",
    "    df = df[saved_columns]\n",
    "    \n",
    "    new_df = {'cnt':[]}\n",
    "    \n",
    "    for column in saved_columns[:3]:\n",
    "        new_df[column] = []\n",
    "    _tmp = (saved_columns[3].split(';'))\n",
    "    for _col in _tmp:\n",
    "        _col = _col.split(':')[0]\n",
    "        new_df[_col] = []\n",
    "    \n",
    "    for _idx, _row in df.iterrows():\n",
    "        _date = _row['date']\n",
    "        _geography = _row['geography']\n",
    "        _geography_code = _row['geography code']\n",
    "#         print('-----------------')\n",
    "#         print('processing:', _idx)\n",
    "#         print(_row)\n",
    "        for _col in saved_columns[3:]:          \n",
    "            _cnt =_row[_col]\n",
    "            _col = _col.split(';')\n",
    "            # 将列名作为分类依据，得出分裂结果的数据\n",
    "            for _col_ in _col:\n",
    "                _col_attri = _col_.split(':')[0]\n",
    "                _col_type = _col_.split(':')[1]\n",
    "                new_df[_col_attri].append(_col_type)\n",
    "            #\n",
    "            new_df['cnt'].append(_cnt)\n",
    "            for _ix in saved_columns[:3]:\n",
    "                new_df[_ix].append(_row[_ix])\n",
    "            \n",
    "    new_df = pd.DataFrame(new_df)\n",
    "    new_df.to_csv(lsoa_file.replace('(LSOA)', ''))\n"
   ]
  },
  {
   "cell_type": "code",
   "execution_count": null,
   "metadata": {},
   "outputs": [],
   "source": []
  },
  {
   "cell_type": "code",
   "execution_count": null,
   "metadata": {},
   "outputs": [],
   "source": []
  }
 ],
 "metadata": {
  "kernelspec": {
   "display_name": "Python 3",
   "language": "python",
   "name": "python3"
  },
  "language_info": {
   "codemirror_mode": {
    "name": "ipython",
    "version": 3
   },
   "file_extension": ".py",
   "mimetype": "text/x-python",
   "name": "python",
   "nbconvert_exporter": "python",
   "pygments_lexer": "ipython3",
   "version": "3.8.3"
  }
 },
 "nbformat": 4,
 "nbformat_minor": 4
}
