{
 "cells": [
  {
   "cell_type": "code",
   "execution_count": 1,
   "metadata": {},
   "outputs": [
    {
     "name": "stdout",
     "output_type": "stream",
     "text": [
      "----0/4381-----\n",
      "----1000/4381-----\n",
      "----2000/4381-----\n",
      "----3000/4381-----\n",
      "----4000/4381-----\n",
      "shape----0-----\n",
      "shape----3000-----\n",
      "shape----6000-----\n",
      "shape----9000-----\n",
      "shape----12000-----\n",
      "shape----15000-----\n",
      "shape----18000-----\n",
      "shape----21000-----\n",
      "shape----24000-----\n",
      "shape----27000-----\n",
      "shape----30000-----\n",
      "shape----33000-----\n",
      "done\n"
     ]
    }
   ],
   "source": [
    "import pandas as pd\n",
    "import shapefile\n",
    "df = pd.read_csv(\"data.csv\")\n",
    "\n",
    "w = shapefile.Writer('data.shp')\n",
    "file_name = \"Lower_Layer_Super_Output_Areas__December_2011__Boundaries_EW_BFC_v3.shp\"\n",
    "\n",
    "\n",
    "with shapefile.Reader(file_name, \"rb\") as sf:\n",
    "    for ind,col in enumerate(df.columns):\n",
    "        w.field(col, 'C',100)\n",
    "    for f in sf.fields:\n",
    "        w.field(f, 'C',100)\n",
    "    w.field(\"cus_name\", 'C',100)\n",
    "    w.shapeType = 1\n",
    "    for idx,row in df.iterrows():\n",
    "        if idx % 1000 ==0:\n",
    "            print('----%s/%s-----'%(idx,len(df))) \n",
    "        w.point(row['Longitude'],row['Latitude']) \n",
    "        rec = {'cus_name':''}\n",
    "        w.record(*row,*rec)\n",
    "    \n",
    "    \"\"\"\n",
    "    ShapefileException: Shapefile Reader requires a shapefile or file-like object. \n",
    "    (no dbf file found)\n",
    "    No records\n",
    "    for shaperec in sf.iterShapeRecords():\n",
    "        w.record(*shaperec.record)\n",
    "        w.shape(shaperec.shape)\n",
    "\n",
    "    OR\n",
    "    \n",
    "    for shaperec in sf.iterShapeRecords():\n",
    "        w.record(*shaperec.record)\n",
    "        w.shape(shaperec.shape.__geo_interface__)\n",
    "        \n",
    "    shapeRecs = sf.shapeRecords()\n",
    "    for shapeRec in shapeRecs:\n",
    "        print(shapeRec.record)\n",
    "    \"\"\"\n",
    "    #only POLYGON,shape.shapeType===5\n",
    "    for ind,shape in enumerate(sf.shapes()): #34753\n",
    "        if ind % 3000 ==0:\n",
    "            print('shape----%s-----'%(ind))\n",
    "        w.shapeType = shape.shapeType\n",
    "        w.poly([[list(point) for point in shape.points]] )\n",
    "        w.record(cus_name='polygon%s'%(ind))\n",
    "    print('done')\n",
    "w.close()"
   ]
  },
  {
   "cell_type": "code",
   "execution_count": null,
   "metadata": {},
   "outputs": [],
   "source": []
  },
  {
   "cell_type": "code",
   "execution_count": null,
   "metadata": {},
   "outputs": [],
   "source": []
  },
  {
   "cell_type": "code",
   "execution_count": null,
   "metadata": {},
   "outputs": [],
   "source": []
  },
  {
   "cell_type": "code",
   "execution_count": null,
   "metadata": {},
   "outputs": [],
   "source": []
  },
  {
   "cell_type": "code",
   "execution_count": null,
   "metadata": {},
   "outputs": [],
   "source": []
  },
  {
   "cell_type": "code",
   "execution_count": null,
   "metadata": {},
   "outputs": [],
   "source": []
  },
  {
   "cell_type": "code",
   "execution_count": null,
   "metadata": {},
   "outputs": [],
   "source": []
  },
  {
   "cell_type": "code",
   "execution_count": null,
   "metadata": {},
   "outputs": [],
   "source": []
  },
  {
   "cell_type": "code",
   "execution_count": null,
   "metadata": {},
   "outputs": [],
   "source": []
  },
  {
   "cell_type": "code",
   "execution_count": null,
   "metadata": {},
   "outputs": [],
   "source": []
  },
  {
   "cell_type": "code",
   "execution_count": null,
   "metadata": {},
   "outputs": [],
   "source": []
  },
  {
   "cell_type": "code",
   "execution_count": null,
   "metadata": {},
   "outputs": [],
   "source": []
  },
  {
   "cell_type": "raw",
   "metadata": {},
   "source": [
    "import shapefile\n",
    "import pandas as pd\n",
    "import numpy as np\n",
    "file_name = \"Lower_Layer_Super_Output_Areas__December_2011__Boundaries_EW_BFC_v3.shp\"\n",
    "# sf = shapefile.Reader(file_name)\n",
    "shapeTypeName = set()\n",
    "with shapefile.Reader(file_name, \"rb\") as sf:\n",
    "#     print(sf.shapeType )\n",
    "    print(len(sf.shapes()))\n",
    "# #     print(sf.shapes())\n",
    "#     print(sf.fields)\n",
    "    \n",
    "# #     for shap in sf.shapes():\n",
    "# #         print(shap.shapeTypeName)\n",
    "# #     print(len(sf.records()))\n",
    "#     shapeRecs =  sf.shapeRecords()\n",
    "# #     for rec in  sf.shapeRecords():\n",
    "# # #         print(*rec.record)\n",
    "#     print(shapeRecs[3].record)\n",
    "\n",
    "#     shapes = sf.shapes()\n",
    "#     print(len(shapes))\n",
    "#     for shape in shapes:\n",
    "# #         print(shape.shapeTypeName)\n",
    "# #         print(shape.shapeType)\n",
    "#         print(shape.points)\n",
    "#         shapeTypeName.add(shape.shapeTypeName)\n",
    "#         for name in dir(shape):\n",
    "# #             if not name.startswith('_'):\n",
    "#             print(name)\n",
    "#         break\n",
    "#     shapeRecs = sf.shapeRecords()\n",
    "#     for shapeRec in shapeRecs:\n",
    "#         print(shapeRec.record)\n",
    "#         break\n",
    "# print(shapeTypeName)"
   ]
  },
  {
   "cell_type": "code",
   "execution_count": null,
   "metadata": {},
   "outputs": [],
   "source": []
  }
 ],
 "metadata": {
  "kernelspec": {
   "display_name": "Python 3",
   "language": "python",
   "name": "python3"
  },
  "language_info": {
   "codemirror_mode": {
    "name": "ipython",
    "version": 3
   },
   "file_extension": ".py",
   "mimetype": "text/x-python",
   "name": "python",
   "nbconvert_exporter": "python",
   "pygments_lexer": "ipython3",
   "version": "3.8.3"
  }
 },
 "nbformat": 4,
 "nbformat_minor": 4
}
