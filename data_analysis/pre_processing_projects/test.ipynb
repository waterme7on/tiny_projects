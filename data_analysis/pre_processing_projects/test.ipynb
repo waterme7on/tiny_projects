{
 "cells": [
  {
   "cell_type": "code",
   "execution_count": 1,
   "metadata": {},
   "outputs": [],
   "source": [
    "import pandas as pd\n",
    "EPi10 = pd.read_csv(\"EPi_10.csv\")\n",
    "A = pd.read_csv(\"A.csv\")"
   ]
  },
  {
   "cell_type": "code",
   "execution_count": 6,
   "metadata": {},
   "outputs": [],
   "source": [
    "import numpy as np"
   ]
  },
  {
   "cell_type": "code",
   "execution_count": 5,
   "metadata": {},
   "outputs": [
    {
     "name": "stdout",
     "output_type": "stream",
     "text": [
      "Unnamed: 0        int64\n",
      "paper_id          int64\n",
      "citationcount1    int64\n",
      "citationcount2    int64\n",
      "dtype: object\n",
      "       Unnamed: 0  paper_id  citationcount1  citationcount2\n",
      "0               0    289259               3               0\n",
      "1               1    289024               2               2\n",
      "2               2    408638             248             298\n",
      "3               3    600828               2               0\n",
      "4               4    688897               1               0\n",
      "...           ...       ...             ...             ...\n",
      "63847       63847     78939               0               1\n",
      "63848       63848    132695               0               1\n",
      "63849       63849   1022912               0               2\n",
      "63850       63850     68922               0               1\n",
      "63851       63851    603560               1               0\n",
      "\n",
      "[63852 rows x 4 columns]\n"
     ]
    }
   ],
   "source": [
    "print(EPi10.dtypes)\n",
    "print(EPi10)"
   ]
  },
  {
   "cell_type": "code",
   "execution_count": 7,
   "metadata": {},
   "outputs": [
    {
     "name": "stdout",
     "output_type": "stream",
     "text": [
      "Unnamed: 0          int64\n",
      "author_id         float64\n",
      "hi                  int64\n",
      "EPi10_paper_id      int64\n",
      "dtype: object\n",
      "       Unnamed: 0  author_id  hi  EPi10_paper_id\n",
      "0               0   112127.0  15               4\n",
      "1               0   112127.0  15            2850\n",
      "2               0   112127.0  15           25057\n",
      "3               0   112127.0  15           43188\n",
      "4               0   112127.0  15           47954\n",
      "...           ...        ...  ..             ...\n",
      "28285           0  1299017.0   0          257423\n",
      "28286           0  1299017.0   0         1854063\n",
      "28287           0    58443.0   0         1854063\n",
      "28288           0  1674635.0   2         1854065\n",
      "28289           0  1613982.0   0         1854067\n",
      "\n",
      "[28290 rows x 4 columns]\n"
     ]
    }
   ],
   "source": [
    "A[['EPi10_paper_id']] = A[['EPi10_paper_id']].astype(np.int64)\n",
    "print(A.dtypes)\n",
    "print(A)"
   ]
  },
  {
   "cell_type": "code",
   "execution_count": 8,
   "metadata": {},
   "outputs": [],
   "source": [
    "A_Epi10 = pd.merge(EPi10, A, left_on='paper_id', right_on='EPi10_paper_id')"
   ]
  },
  {
   "cell_type": "code",
   "execution_count": 9,
   "metadata": {},
   "outputs": [
    {
     "name": "stdout",
     "output_type": "stream",
     "text": [
      "      Unnamed: 0_x  paper_id  citationcount1  citationcount2  Unnamed: 0_y  \\\n",
      "0                5       769               2               1             0   \n",
      "1                5       769               2               1             0   \n",
      "2              110       193               1               0             0   \n",
      "3              110       193               1               0             0   \n",
      "4              110       193               1               0             0   \n",
      "...            ...       ...             ...             ...           ...   \n",
      "8165         63805   1956559               0               1             0   \n",
      "8166         63828   1603532               0               1             0   \n",
      "8167         63828   1603532               0               1             0   \n",
      "8168         63832    367899               0               1             0   \n",
      "8169         63832    367899               0               1             0   \n",
      "\n",
      "      author_id  hi  EPi10_paper_id  \n",
      "0     1407548.0   1             769  \n",
      "1      229034.0   1             769  \n",
      "2      337036.0   5             193  \n",
      "3      337036.0   5             193  \n",
      "4      337036.0   5             193  \n",
      "...         ...  ..             ...  \n",
      "8165  1157792.0   2         1956559  \n",
      "8166   876866.0   3         1603532  \n",
      "8167   876866.0   3         1603532  \n",
      "8168   876866.0   3          367899  \n",
      "8169   876866.0   3          367899  \n",
      "\n",
      "[8170 rows x 8 columns]\n"
     ]
    }
   ],
   "source": [
    "print(A_Epi10)"
   ]
  }
 ],
 "metadata": {
  "kernelspec": {
   "display_name": "Python 3",
   "language": "python",
   "name": "python3"
  },
  "language_info": {
   "codemirror_mode": {
    "name": "ipython",
    "version": 3
   },
   "file_extension": ".py",
   "mimetype": "text/x-python",
   "name": "python",
   "nbconvert_exporter": "python",
   "pygments_lexer": "ipython3",
   "version": "3.8.3"
  }
 },
 "nbformat": 4,
 "nbformat_minor": 4
}
