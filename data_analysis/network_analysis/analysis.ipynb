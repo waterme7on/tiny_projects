{
 "cells": [
  {
   "cell_type": "code",
   "execution_count": 1,
   "metadata": {},
   "outputs": [],
   "source": [
    "import networkx as nx\n",
    "from networkx.algorithms import community\n",
    "import itertools\n",
    "from random import shuffle"
   ]
  },
  {
   "cell_type": "code",
   "execution_count": 2,
   "metadata": {},
   "outputs": [],
   "source": [
    "def read_graph(path):\n",
    "    '''\n",
    "    读取输入的交易信息\n",
    "    格式为：结点1,结点2\n",
    "    英文逗号分格，无空行\n",
    "    返回一个字典：如{'a': {'b': 1, 'c': 1, 'd': 1, 'e': 1}, 'c': {'b': 1}, 'b': {'c': 1, 'd': 1}, 'e': {'d': 1, 'b': 1}, 'd': {'a': 1}}\n",
    "    '''\n",
    "    graph_dict = {}\n",
    "    with open(path, 'r') as f:\n",
    "        for line in f.readlines():\n",
    "            line = line.strip('\\n').split(',')\n",
    "            try:\n",
    "                graph_dict[line[0]][line[1]] += 1\n",
    "            except:\n",
    "                try:\n",
    "                    graph_dict[line[0]][line[1]] = 1\n",
    "                except:\n",
    "                    graph_dict[line[0]] = {}\n",
    "                    graph_dict[line[0]][line[1]] = 1    \n",
    "    return graph_dict"
   ]
  },
  {
   "cell_type": "code",
   "execution_count": 3,
   "metadata": {},
   "outputs": [],
   "source": [
    "def gen_graph(graph_dict):\n",
    "    '''\n",
    "    根据读取的交易数据构造图\n",
    "    权重为两个结点间交易次数\n",
    "    '''\n",
    "    G = nx.Graph()\n",
    "    for entity in graph_dict.keys():\n",
    "        for relation in graph_dict[entity]:\n",
    "            weight = graph_dict[entity][relation]\n",
    "            # 统计双方互相的交易总数\n",
    "            try:\n",
    "                weight += graph_dict[relation][entity]\n",
    "            except:\n",
    "                pass\n",
    "            G.add_edge(entity, relation, weight=weight)\n",
    "    return G"
   ]
  },
  {
   "cell_type": "code",
   "execution_count": 4,
   "metadata": {},
   "outputs": [],
   "source": [
    "def girvan_newman(G, most_valuable_edge=None):\n",
    "    \"\"\"\n",
    "    Finds communities in a graph using the Girvan–Newman method.\n",
    "    @Parameters\n",
    "    G : NetworkX graph\n",
    "    most_valuable_edge : function\n",
    "        接收图作为输入，输出一条边，边可以在算法的迭代过程中计算，如果没有指定，则选取edge_betweenness_centrality\n",
    "    @Return\n",
    "    返回迭代器，可以通过迭代器得到具体分组\n",
    "\n",
    "    \"\"\"\n",
    "    # 如果图是空的，则返回\n",
    "    if G.number_of_edges() == 0:\n",
    "        yield tuple(nx.connected_components(G))\n",
    "        return\n",
    "    # 如果没有提供函数作为参数，则默认选用edge_betweenness_centrality\n",
    "    if most_valuable_edge is None:\n",
    "        def most_valuable_edge(G):\n",
    "            # 这时图一定不为空\n",
    "            betweenness = nx.edge_betweenness_centrality(G)\n",
    "            return max(betweenness, key=betweenness.get)\n",
    "    # 复制原图为无向图\n",
    "    g = G.copy().to_undirected()\n",
    "    # 移去某条边，看看是否会造成影响\n",
    "    g.remove_edges_from(nx.selfloop_edges(g))\n",
    "    while g.number_of_edges() > 0:\n",
    "        yield _without_most_central_edges(g, most_valuable_edge)\n",
    "\n",
    "\n",
    "\n",
    "def _without_most_central_edges(G, most_valuable_edge):\n",
    "    \"\"\"\n",
    "    通过不停移除某条最有价值的边来得到分区\n",
    "    G必须非空\n",
    "    \"\"\"\n",
    "    original_num_components = nx.number_connected_components(G)\n",
    "    num_new_components = original_num_components\n",
    "    while num_new_components <= original_num_components:\n",
    "        edge = most_valuable_edge(G)\n",
    "        G.remove_edge(*edge)\n",
    "        new_components = tuple(nx.connected_components(G))\n",
    "        num_new_components = len(new_components)\n",
    "    return new_components"
   ]
  },
  {
   "cell_type": "code",
   "execution_count": 5,
   "metadata": {},
   "outputs": [],
   "source": [
    "def most_central_edge(G):\n",
    "    '''\n",
    "    按照边权重的介中心性来区分社区\n",
    "    '''\n",
    "    centrality = nx.edge_betweenness_centrality(G, weight='weight')\n",
    "#     centrality = nx.eigenvector_centrality_numpy(G, weight='weight')\n",
    "#     centrality = nx.information_centrality(G, weight='weight')\n",
    "    return max(centrality, key=centrality.get)"
   ]
  },
  {
   "cell_type": "code",
   "execution_count": 6,
   "metadata": {},
   "outputs": [],
   "source": [
    "def detect_communities(G):\n",
    "    '''\n",
    "    输入图\n",
    "    返回社区\n",
    "    '''\n",
    "    comp = girvan_newman(G, most_valuable_edge=most_central_edge)\n",
    "    group = tuple(sorted(c) for c in next(comp))\n",
    "    group_dict = {}\n",
    "    for i in range(len(group)):\n",
    "        for node in group[i]:\n",
    "            group_dict[node] = i\n",
    "    return group_dict"
   ]
  },
  {
   "cell_type": "code",
   "execution_count": 7,
   "metadata": {},
   "outputs": [],
   "source": [
    "def flow_between_communities(G, group):\n",
    "    # 分区间交流\n",
    "    between_sum = 0\n",
    "    # 分区内交流\n",
    "    in_sum = 0\n",
    "    for edge in G.edges:\n",
    "        try:\n",
    "            if group[edge[0]] != group[edge[1]]:\n",
    "                between_sum += G[edge[0]][edge[1]]['weight']\n",
    "            else:\n",
    "                in_sum += G[edge[0]][edge[1]]['weight']\n",
    "        except:\n",
    "            # 否则说明有新边加入，则直接加权\n",
    "            between_sum += G[edge[0]][edge[1]]['weight']\n",
    "    return between_sum, in_sum\n"
   ]
  },
  {
   "cell_type": "code",
   "execution_count": 8,
   "metadata": {},
   "outputs": [],
   "source": [
    "# # def shuffle_group(G):\n",
    "# shuffle()\n",
    "\n",
    "def shuffle_group(G, k):\n",
    "    '''\n",
    "    将途中结点随机等分为k组\n",
    "    '''\n",
    "    nodes = list(G.nodes)\n",
    "    shuffle(nodes)\n",
    "    m = int(len(nodes)/k)\n",
    "    group = []\n",
    "    for i in range(0, len(nodes), m):\n",
    "        group.append(nodes[i:i+m])\n",
    "    group_dict = {}\n",
    "    for i in range(len(group)):\n",
    "        for node in group[i]:\n",
    "            group_dict[node] = i\n",
    "    return group_dict"
   ]
  },
  {
   "cell_type": "code",
   "execution_count": null,
   "metadata": {},
   "outputs": [],
   "source": []
  },
  {
   "cell_type": "code",
   "execution_count": 9,
   "metadata": {},
   "outputs": [],
   "source": [
    "day1_data = 'day1'\n",
    "day1_data = read_graph(day1_data)\n",
    "G1 = gen_graph(day1_data)\n",
    "\n",
    "day2_data = 'day2'\n",
    "day2_data = read_graph(day2_data)\n",
    "G2 = gen_graph(day2_data)"
   ]
  },
  {
   "cell_type": "code",
   "execution_count": 10,
   "metadata": {},
   "outputs": [
    {
     "data": {
      "image/png": "[encoded data removed]",
      "text/plain": [
       "<Figure size 432x288 with 1 Axes>"
      ]
     },
     "metadata": {},
     "output_type": "display_data"
    }
   ],
   "source": [
    "nx.draw(G1, with_labels=True)"
   ]
  },
  {
   "cell_type": "code",
   "execution_count": 11,
   "metadata": {},
   "outputs": [
    {
     "data": {
      "image/png": "[encoded data removed]",
      "text/plain": [
       "<Figure size 432x288 with 1 Axes>"
      ]
     },
     "metadata": {},
     "output_type": "display_data"
    }
   ],
   "source": [
    "nx.draw(G2, with_labels=True)"
   ]
  },
  {
   "cell_type": "code",
   "execution_count": 12,
   "metadata": {},
   "outputs": [
    {
     "data": {
      "text/plain": [
       "{'a': 0, 'b': 0, 'c': 0, 'd': 0, 'e': 0, 'f': 1, 'k': 1}"
      ]
     },
     "execution_count": 12,
     "metadata": {},
     "output_type": "execute_result"
    }
   ],
   "source": [
    "# 已经实现的分组\n",
    "group = detect_communities(G1)\n",
    "group"
   ]
  },
  {
   "cell_type": "code",
   "execution_count": 13,
   "metadata": {},
   "outputs": [
    {
     "name": "stdout",
     "output_type": "stream",
     "text": [
      "区间： 1  区内： 43\n",
      "区间： 5  区内： 39\n"
     ]
    }
   ],
   "source": [
    "# 打印day1中不同社区之间和社区内的交流\n",
    "between_g1, in_g1 = flow_between_communities(G1, group)\n",
    "# 打印day2中不同社区之间和社区内的交流\n",
    "between_g2, in_g2 = flow_between_communities(G2, group)\n",
    "\n",
    "print('区间：', between_g1, ' 区内：',in_g1)\n",
    "print('区间：', between_g2, ' 区内：',in_g2)"
   ]
  },
  {
   "cell_type": "code",
   "execution_count": 14,
   "metadata": {},
   "outputs": [
    {
     "data": {
      "text/plain": [
       "{'b': 0, 'd': 0, 'f': 0, 'c': 1, 'k': 1, 'a': 1, 'e': 2}"
      ]
     },
     "execution_count": 14,
     "metadata": {},
     "output_type": "execute_result"
    }
   ],
   "source": [
    "# 随机分组\n",
    "group = shuffle_group(G1, 2)\n",
    "group"
   ]
  },
  {
   "cell_type": "code",
   "execution_count": 15,
   "metadata": {},
   "outputs": [
    {
     "name": "stdout",
     "output_type": "stream",
     "text": [
      "区间： 38  区内： 6\n",
      "区间： 37  区内： 7\n"
     ]
    }
   ],
   "source": [
    "# 打印day1中不同社区之间和社区内的交流\n",
    "between_g1, in_g1 = flow_between_communities(G1, group)\n",
    "# 打印day2中不同社区之间和社区内的交流\n",
    "between_g2, in_g2 = flow_between_communities(G2, group)\n",
    "\n",
    "print('区间：', between_g1, ' 区内：',in_g1)\n",
    "print('区间：', between_g2, ' 区内：',in_g2)"
   ]
  },
  {
   "cell_type": "code",
   "execution_count": null,
   "metadata": {},
   "outputs": [],
   "source": []
  }
 ],
 "metadata": {
  "kernelspec": {
   "display_name": "Python 3",
   "language": "python",
   "name": "python3"
  },
  "language_info": {
   "codemirror_mode": {
    "name": "ipython",
    "version": 3
   },
   "file_extension": ".py",
   "mimetype": "text/x-python",
   "name": "python",
   "nbconvert_exporter": "python",
   "pygments_lexer": "ipython3",
   "version": "3.8.3"
  }
 },
 "nbformat": 4,
 "nbformat_minor": 4
}
