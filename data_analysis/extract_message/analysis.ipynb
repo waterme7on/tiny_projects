{
 "cells": [
  {
   "cell_type": "code",
   "execution_count": 1,
   "metadata": {},
   "outputs": [],
   "source": [
    "keyword_file = 'keywords.txt'\n",
    "message_file_dir = 'message'"
   ]
  },
  {
   "cell_type": "code",
   "execution_count": 8,
   "metadata": {},
   "outputs": [],
   "source": [
    "import pandas as pd\n",
    "import os\n",
    "import codecs #打开ANSI格式的文档，需要codecs库"
   ]
  },
  {
   "cell_type": "code",
   "execution_count": 22,
   "metadata": {
    "tags": []
   },
   "outputs": [
    {
     "output_type": "stream",
     "name": "stdout",
     "text": "当前所在位置： c:\\Users\\t-jintli\\Desktop\\python_projects\\data_analysis\\outpu\n"
    }
   ],
   "source": [
    "print('当前所在位置：', os.getcwd())\n",
    "keyword_file = input('请输入keyword所在文件（相对路径）:')\n",
    "message_file_dir = input('请输入message所在文件（相对路径）:')"
   ]
  },
  {
   "cell_type": "code",
   "execution_count": 4,
   "metadata": {
    "tags": []
   },
   "outputs": [
    {
     "output_type": "stream",
     "name": "stdout",
     "text": "['last time', 'linux version', 'call trace', 'unknown product type or slotid', 'machine check', 'peer power on', 'peer power status']\n"
    }
   ],
   "source": [
    "# 读取各个keyword\n",
    "keywords = []\n",
    "with open(keyword_file, 'r') as f:\n",
    "    for line in f.readlines():\n",
    "        line = line.strip('\\n| ').replace('\"', '')\n",
    "        if line == '':\n",
    "            continue\n",
    "        keyword = line.lower()\n",
    "        keywords.append(keyword)\n",
    "print(keywords)"
   ]
  },
  {
   "cell_type": "code",
   "execution_count": 5,
   "metadata": {},
   "outputs": [],
   "source": [
    "def match_keyword(line, keywords):\n",
    "    '''\n",
    "    在行中寻找keyword，如果匹配上则返回keyword，无匹配项返回-1\n",
    "    '''\n",
    "    line = line.lower()\n",
    "    for keyword in keywords:\n",
    "        if line.find(keyword) != -1:\n",
    "            return keyword\n",
    "    return -1"
   ]
  },
  {
   "cell_type": "code",
   "execution_count": 6,
   "metadata": {},
   "outputs": [],
   "source": [
    "def output_result(keyword_result, output_path):\n",
    "    '''\n",
    "    结果输出到文件中\n",
    "    '''\n",
    "    with open(output_path, 'w', encoding='utf8') as f:\n",
    "        for keyword in keyword_result:\n",
    "            f.write('------------------------{}---------------------\\n'.format(keyword))\n",
    "            results = keyword_result[keyword]\n",
    "            if len(results) == 0:\n",
    "                f.write(\"Can't find matched result, keyword: {}\\n\".format(keyword))\n",
    "            else:\n",
    "                f.writelines(results)\n",
    "#                 for line in keyword_result[keyword]:\n",
    "#                     f.write(line)\n",
    "            f.write('--------------------------------------------\\n\\n')\n"
   ]
  },
  {
   "cell_type": "code",
   "execution_count": 18,
   "metadata": {
    "tags": []
   },
   "outputs": [
    {
     "output_type": "stream",
     "name": "stdout",
     "text": "message\\messages1.txt\nmessage\\messages2.txt\nmessage\\messages3.txt\nmessage\\messages4.txt\nmessage\\messages重点.txt\n"
    }
   ],
   "source": [
    "message_files = os.listdir(message_file_dir)\n",
    "for message_file in message_files:\n",
    "    if message_file.endswith('_result.txt') or not message_file.endswith('.txt'):\n",
    "        continue\n",
    "    keyword_result = {keyword:[] for keyword in keywords}\n",
    "    message_file_path = os.path.join(message_file_dir, message_file)\n",
    "    print(message_file_path)\n",
    "    f = codecs.open(message_file_path, 'r', encoding='utf-8')\n",
    "    for line in f.readlines():\n",
    "        matched_keyword = match_keyword(line, keywords)\n",
    "        # 未匹配\n",
    "        if matched_keyword == -1:\n",
    "            continue\n",
    "        keyword_result[matched_keyword].append(line)\n",
    "    f.close()\n",
    "    output_result(keyword_result, os.path.join(message_file_dir, message_file+'_result.txt'))\n"
   ]
  }
 ],
 "metadata": {
  "kernelspec": {
   "display_name": "Python 3",
   "language": "python",
   "name": "python3"
  },
  "language_info": {
   "codemirror_mode": {
    "name": "ipython",
    "version": 3
   },
   "file_extension": ".py",
   "mimetype": "text/x-python",
   "name": "python",
   "nbconvert_exporter": "python",
   "pygments_lexer": "ipython3",
   "version": "3.8.3-final"
  }
 },
 "nbformat": 4,
 "nbformat_minor": 4
}